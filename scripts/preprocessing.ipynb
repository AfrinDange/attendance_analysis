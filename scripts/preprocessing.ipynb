{
  "nbformat": 4,
  "nbformat_minor": 0,
  "metadata": {
    "colab": {
      "name": "data_preprocessing_import.ipynb",
      "provenance": [],
      "collapsed_sections": [],
      "include_colab_link": true
    },
    "kernelspec": {
      "name": "python3",
      "display_name": "Python 3"
    },
    "language_info": {
      "name": "python"
    }
  },
  "cells": [
    {
      "cell_type": "markdown",
      "metadata": {
        "id": "view-in-github",
        "colab_type": "text"
      },
      "source": [
        "<a href=\"https://colab.research.google.com/github/AfrinDange/attendance_analysis/blob/main/scripts/preprocessing.ipynb\" target=\"_parent\"><img src=\"https://colab.research.google.com/assets/colab-badge.svg\" alt=\"Open In Colab\"/></a>"
      ]
    },
    {
      "cell_type": "markdown",
      "metadata": {
        "id": "1ze4P01xOKtm"
      },
      "source": [
        "# Clone Git Repository"
      ]
    },
    {
      "cell_type": "code",
      "metadata": {
        "colab": {
          "base_uri": "https://localhost:8080/"
        },
        "id": "Nem2d8oZdDM3",
        "outputId": "29bb4220-5aad-48db-83c1-38d45ee963c6"
      },
      "source": [
        "!git clone https://github.com/AfrinDange/attendance_analysis.git"
      ],
      "execution_count": null,
      "outputs": [
        {
          "output_type": "stream",
          "name": "stdout",
          "text": [
            "fatal: destination path 'attendance_analysis' already exists and is not an empty directory.\n"
          ]
        }
      ]
    },
    {
      "cell_type": "markdown",
      "metadata": {
        "id": "2e2l9loBOw-m"
      },
      "source": [
        "# Importing Libraries"
      ]
    },
    {
      "cell_type": "code",
      "metadata": {
        "id": "vLPUmRZLk4TE"
      },
      "source": [
        "import os\n",
        "import pandas as pd\n",
        "import re\n",
        "from datetime import datetime\n",
        "import csv\n",
        "import xlrd\n",
        "import json\n",
        "import uuid"
      ],
      "execution_count": null,
      "outputs": []
    },
    {
      "cell_type": "markdown",
      "metadata": {
        "id": "lW2i_RAnO1AG"
      },
      "source": [
        "# Roll Numbers"
      ]
    },
    {
      "cell_type": "code",
      "metadata": {
        "id": "SKPPCMb5pK-h",
        "colab": {
          "base_uri": "https://localhost:8080/",
          "height": 470
        },
        "outputId": "13718f77-4296-412d-f96d-8d4b65b99d22"
      },
      "source": [
        "roll_no = pd.read_excel(\"attendance_analysis/data/roll_no.xlsx\")\n",
        "display(roll_no)\n",
        "roll_no = roll_no.set_index('user_name').T.to_dict('roll_no')[0]"
      ],
      "execution_count": null,
      "outputs": [
        {
          "output_type": "display_data",
          "data": {
            "text/html": [
              "<div>\n",
              "<style scoped>\n",
              "    .dataframe tbody tr th:only-of-type {\n",
              "        vertical-align: middle;\n",
              "    }\n",
              "\n",
              "    .dataframe tbody tr th {\n",
              "        vertical-align: top;\n",
              "    }\n",
              "\n",
              "    .dataframe thead th {\n",
              "        text-align: right;\n",
              "    }\n",
              "</style>\n",
              "<table border=\"1\" class=\"dataframe\">\n",
              "  <thead>\n",
              "    <tr style=\"text-align: right;\">\n",
              "      <th></th>\n",
              "      <th>roll_no</th>\n",
              "      <th>user_name</th>\n",
              "    </tr>\n",
              "  </thead>\n",
              "  <tbody>\n",
              "    <tr>\n",
              "      <th>0</th>\n",
              "      <td>101710</td>\n",
              "      <td>CHRISTOPHER CARDOZA</td>\n",
              "    </tr>\n",
              "    <tr>\n",
              "      <th>1</th>\n",
              "      <td>101775</td>\n",
              "      <td>joel.thomas</td>\n",
              "    </tr>\n",
              "    <tr>\n",
              "      <th>2</th>\n",
              "      <td>101801</td>\n",
              "      <td>ALWIN JACOB</td>\n",
              "    </tr>\n",
              "    <tr>\n",
              "      <th>3</th>\n",
              "      <td>101802</td>\n",
              "      <td>B SAI SREE</td>\n",
              "    </tr>\n",
              "    <tr>\n",
              "      <th>4</th>\n",
              "      <td>101803</td>\n",
              "      <td>B SHRIRAM ATHREYA</td>\n",
              "    </tr>\n",
              "    <tr>\n",
              "      <th>...</th>\n",
              "      <td>...</td>\n",
              "      <td>...</td>\n",
              "    </tr>\n",
              "    <tr>\n",
              "      <th>67</th>\n",
              "      <td>101867</td>\n",
              "      <td>rahul.khambe</td>\n",
              "    </tr>\n",
              "    <tr>\n",
              "      <th>68</th>\n",
              "      <td>101868</td>\n",
              "      <td>vedesh.nadar</td>\n",
              "    </tr>\n",
              "    <tr>\n",
              "      <th>69</th>\n",
              "      <td>101869</td>\n",
              "      <td>shawn.periera</td>\n",
              "    </tr>\n",
              "    <tr>\n",
              "      <th>70</th>\n",
              "      <td>101870</td>\n",
              "      <td>gargi raje</td>\n",
              "    </tr>\n",
              "    <tr>\n",
              "      <th>71</th>\n",
              "      <td>101871</td>\n",
              "      <td>simran kalaskar</td>\n",
              "    </tr>\n",
              "  </tbody>\n",
              "</table>\n",
              "<p>72 rows × 2 columns</p>\n",
              "</div>"
            ],
            "text/plain": [
              "    roll_no            user_name\n",
              "0    101710  CHRISTOPHER CARDOZA\n",
              "1    101775          joel.thomas\n",
              "2    101801          ALWIN JACOB\n",
              "3    101802           B SAI SREE\n",
              "4    101803    B SHRIRAM ATHREYA\n",
              "..      ...                  ...\n",
              "67   101867         rahul.khambe\n",
              "68   101868         vedesh.nadar\n",
              "69   101869        shawn.periera\n",
              "70   101870           gargi raje\n",
              "71   101871      simran kalaskar\n",
              "\n",
              "[72 rows x 2 columns]"
            ]
          },
          "metadata": {}
        },
        {
          "output_type": "stream",
          "name": "stderr",
          "text": [
            "/usr/local/lib/python3.7/dist-packages/pandas/core/frame.py:1490: FutureWarning: Using short name for 'orient' is deprecated. Only the options: ('dict', list, 'series', 'split', 'records', 'index') will be used in a future version. Use one of the above to silence this warning.\n",
            "  FutureWarning,\n"
          ]
        }
      ]
    },
    {
      "cell_type": "markdown",
      "metadata": {
        "id": "nXoQ7eyOO_-a"
      },
      "source": [
        "# Sample Data"
      ]
    },
    {
      "cell_type": "code",
      "metadata": {
        "colab": {
          "base_uri": "https://localhost:8080/",
          "height": 417
        },
        "id": "UHbfHk-7dS0O",
        "outputId": "3ddc319a-0d14-4a85-96bf-b76b49ff127a"
      },
      "source": [
        "sample = pd.read_csv(\"attendance_analysis/data/BDA/meetingAttendanceReport(BDA(Theory)) (3).csv\", encoding = \"UTF-16\", skiprows=6, sep='\\t')\n",
        "display(sample)"
      ],
      "execution_count": null,
      "outputs": [
        {
          "output_type": "display_data",
          "data": {
            "text/html": [
              "<div>\n",
              "<style scoped>\n",
              "    .dataframe tbody tr th:only-of-type {\n",
              "        vertical-align: middle;\n",
              "    }\n",
              "\n",
              "    .dataframe tbody tr th {\n",
              "        vertical-align: top;\n",
              "    }\n",
              "\n",
              "    .dataframe thead th {\n",
              "        text-align: right;\n",
              "    }\n",
              "</style>\n",
              "<table border=\"1\" class=\"dataframe\">\n",
              "  <thead>\n",
              "    <tr style=\"text-align: right;\">\n",
              "      <th></th>\n",
              "      <th>Full Name</th>\n",
              "      <th>Join Time</th>\n",
              "      <th>Leave Time</th>\n",
              "      <th>Duration</th>\n",
              "      <th>userPrincipalName</th>\n",
              "      <th>Role</th>\n",
              "    </tr>\n",
              "  </thead>\n",
              "  <tbody>\n",
              "    <tr>\n",
              "      <th>0</th>\n",
              "      <td>Smita Dange</td>\n",
              "      <td>8/12/2021, 4:32:58 PM</td>\n",
              "      <td>8/12/2021, 5:02:52 PM</td>\n",
              "      <td>29m 54s</td>\n",
              "      <td>smita.dange@fcrit.ac.in</td>\n",
              "      <td>Organizer</td>\n",
              "    </tr>\n",
              "    <tr>\n",
              "      <th>1</th>\n",
              "      <td>Smita Dange</td>\n",
              "      <td>8/12/2021, 5:05:31 PM</td>\n",
              "      <td>8/12/2021, 5:32:29 PM</td>\n",
              "      <td>26m 57s</td>\n",
              "      <td>smita.dange@fcrit.ac.in</td>\n",
              "      <td>Organizer</td>\n",
              "    </tr>\n",
              "    <tr>\n",
              "      <th>2</th>\n",
              "      <td>rahul.khambe</td>\n",
              "      <td>8/12/2021, 4:33:15 PM</td>\n",
              "      <td>8/12/2021, 5:31:33 PM</td>\n",
              "      <td>58m 17s</td>\n",
              "      <td>rahul.khambe@FCRIT.onmicrosoft.com</td>\n",
              "      <td>Presenter</td>\n",
              "    </tr>\n",
              "    <tr>\n",
              "      <th>3</th>\n",
              "      <td>PULHANI RACHIT</td>\n",
              "      <td>8/12/2021, 4:33:35 PM</td>\n",
              "      <td>8/12/2021, 5:32:34 PM</td>\n",
              "      <td>58m 58s</td>\n",
              "      <td>pulhani.rachit@FCRIT.onmicrosoft.com</td>\n",
              "      <td>Presenter</td>\n",
              "    </tr>\n",
              "    <tr>\n",
              "      <th>4</th>\n",
              "      <td>BHAGYASHREE LAKSHMINARAYANAN</td>\n",
              "      <td>8/12/2021, 4:33:36 PM</td>\n",
              "      <td>8/12/2021, 5:37:34 PM</td>\n",
              "      <td>1h 3m</td>\n",
              "      <td>bhagyashree.lakshmi@FCRIT.onmicrosoft.com</td>\n",
              "      <td>Presenter</td>\n",
              "    </tr>\n",
              "    <tr>\n",
              "      <th>...</th>\n",
              "      <td>...</td>\n",
              "      <td>...</td>\n",
              "      <td>...</td>\n",
              "      <td>...</td>\n",
              "      <td>...</td>\n",
              "      <td>...</td>\n",
              "    </tr>\n",
              "    <tr>\n",
              "      <th>69</th>\n",
              "      <td>THAKUR YUKTA</td>\n",
              "      <td>8/12/2021, 4:43:26 PM</td>\n",
              "      <td>8/12/2021, 5:33:05 PM</td>\n",
              "      <td>49m 38s</td>\n",
              "      <td>thakur.yukta@FCRIT.onmicrosoft.com</td>\n",
              "      <td>Presenter</td>\n",
              "    </tr>\n",
              "    <tr>\n",
              "      <th>70</th>\n",
              "      <td>vedesh.nadar</td>\n",
              "      <td>8/12/2021, 4:53:20 PM</td>\n",
              "      <td>8/12/2021, 5:44:01 PM</td>\n",
              "      <td>50m 41s</td>\n",
              "      <td>vedesh.nadar@FCRIT.onmicrosoft.com</td>\n",
              "      <td>Presenter</td>\n",
              "    </tr>\n",
              "    <tr>\n",
              "      <th>71</th>\n",
              "      <td>CHAVAN SHREYA</td>\n",
              "      <td>8/12/2021, 4:56:25 PM</td>\n",
              "      <td>8/12/2021, 5:41:04 PM</td>\n",
              "      <td>44m 38s</td>\n",
              "      <td>chavan.shreya@FCRIT.onmicrosoft.com</td>\n",
              "      <td>Presenter</td>\n",
              "    </tr>\n",
              "    <tr>\n",
              "      <th>72</th>\n",
              "      <td>GUPTA ISHIKA</td>\n",
              "      <td>8/12/2021, 5:13:32 PM</td>\n",
              "      <td>8/12/2021, 5:35:15 PM</td>\n",
              "      <td>21m 43s</td>\n",
              "      <td>gupta.ishika@FCRIT.onmicrosoft.com</td>\n",
              "      <td>Presenter</td>\n",
              "    </tr>\n",
              "    <tr>\n",
              "      <th>73</th>\n",
              "      <td>JASON FELIX</td>\n",
              "      <td>8/12/2021, 5:19:22 PM</td>\n",
              "      <td>8/12/2021, 5:34:55 PM</td>\n",
              "      <td>15m 33s</td>\n",
              "      <td>jason.felix@FCRIT.onmicrosoft.com</td>\n",
              "      <td>Presenter</td>\n",
              "    </tr>\n",
              "  </tbody>\n",
              "</table>\n",
              "<p>74 rows × 6 columns</p>\n",
              "</div>"
            ],
            "text/plain": [
              "                       Full Name  ...       Role\n",
              "0                    Smita Dange  ...  Organizer\n",
              "1                    Smita Dange  ...  Organizer\n",
              "2                   rahul.khambe  ...  Presenter\n",
              "3                 PULHANI RACHIT  ...  Presenter\n",
              "4   BHAGYASHREE LAKSHMINARAYANAN  ...  Presenter\n",
              "..                           ...  ...        ...\n",
              "69                  THAKUR YUKTA  ...  Presenter\n",
              "70                  vedesh.nadar  ...  Presenter\n",
              "71                 CHAVAN SHREYA  ...  Presenter\n",
              "72                  GUPTA ISHIKA  ...  Presenter\n",
              "73                   JASON FELIX  ...  Presenter\n",
              "\n",
              "[74 rows x 6 columns]"
            ]
          },
          "metadata": {}
        }
      ]
    },
    {
      "cell_type": "code",
      "metadata": {
        "colab": {
          "base_uri": "https://localhost:8080/",
          "height": 417
        },
        "id": "bUnewhPx05h0",
        "outputId": "21f1fe2b-1fa5-4514-8e35-55d820f63b3f"
      },
      "source": [
        "sample = pd.read_excel(\"attendance_analysis/data/MCC/MCC L23 26-08-2021.xlsx\", skiprows=7)\n",
        "display(sample)"
      ],
      "execution_count": null,
      "outputs": [
        {
          "output_type": "display_data",
          "data": {
            "text/html": [
              "<div>\n",
              "<style scoped>\n",
              "    .dataframe tbody tr th:only-of-type {\n",
              "        vertical-align: middle;\n",
              "    }\n",
              "\n",
              "    .dataframe tbody tr th {\n",
              "        vertical-align: top;\n",
              "    }\n",
              "\n",
              "    .dataframe thead th {\n",
              "        text-align: right;\n",
              "    }\n",
              "</style>\n",
              "<table border=\"1\" class=\"dataframe\">\n",
              "  <thead>\n",
              "    <tr style=\"text-align: right;\">\n",
              "      <th></th>\n",
              "      <th>Full Name</th>\n",
              "      <th>Join Time</th>\n",
              "      <th>Leave Time</th>\n",
              "      <th>Duration</th>\n",
              "      <th>userPrincipalName</th>\n",
              "      <th>Role</th>\n",
              "    </tr>\n",
              "  </thead>\n",
              "  <tbody>\n",
              "    <tr>\n",
              "      <th>0</th>\n",
              "      <td>Rakhi Kalantri</td>\n",
              "      <td>8/26/2021, 10:11:23 AM</td>\n",
              "      <td>8/26/2021, 11:17:03 AM</td>\n",
              "      <td>1h 5m</td>\n",
              "      <td>rakhi.kalantri@fcrit.ac.in</td>\n",
              "      <td>Organizer</td>\n",
              "    </tr>\n",
              "    <tr>\n",
              "      <th>1</th>\n",
              "      <td>DESHMUKH PARTH</td>\n",
              "      <td>8/26/2021, 10:15:35 AM</td>\n",
              "      <td>8/26/2021, 11:17:03 AM</td>\n",
              "      <td>1h 1m</td>\n",
              "      <td>deshmukh.parth@comp.fcrit.ac.in</td>\n",
              "      <td>Attendee</td>\n",
              "    </tr>\n",
              "    <tr>\n",
              "      <th>2</th>\n",
              "      <td>SERENA RAJU</td>\n",
              "      <td>8/26/2021, 10:15:51 AM</td>\n",
              "      <td>8/26/2021, 11:17:03 AM</td>\n",
              "      <td>1h 1m</td>\n",
              "      <td>serena.raju@comp.fcrit.ac.in</td>\n",
              "      <td>Attendee</td>\n",
              "    </tr>\n",
              "    <tr>\n",
              "      <th>3</th>\n",
              "      <td>GEOFERRY MICHAEL</td>\n",
              "      <td>8/26/2021, 10:16:41 AM</td>\n",
              "      <td>8/26/2021, 11:17:03 AM</td>\n",
              "      <td>1h</td>\n",
              "      <td>geoferry.michael@comp.fcrit.ac.in</td>\n",
              "      <td>Attendee</td>\n",
              "    </tr>\n",
              "    <tr>\n",
              "      <th>4</th>\n",
              "      <td>HUDIYA YASH</td>\n",
              "      <td>8/26/2021, 10:16:48 AM</td>\n",
              "      <td>8/26/2021, 11:17:03 AM</td>\n",
              "      <td>1h</td>\n",
              "      <td>hudiya.yash@comp.fcrit.ac.in</td>\n",
              "      <td>Attendee</td>\n",
              "    </tr>\n",
              "    <tr>\n",
              "      <th>...</th>\n",
              "      <td>...</td>\n",
              "      <td>...</td>\n",
              "      <td>...</td>\n",
              "      <td>...</td>\n",
              "      <td>...</td>\n",
              "      <td>...</td>\n",
              "    </tr>\n",
              "    <tr>\n",
              "      <th>68</th>\n",
              "      <td>pramod more</td>\n",
              "      <td>8/26/2021, 10:55:45 AM</td>\n",
              "      <td>8/26/2021, 10:55:56 AM</td>\n",
              "      <td>10s</td>\n",
              "      <td>pramod.more@fcrit.ac.in</td>\n",
              "      <td>Attendee</td>\n",
              "    </tr>\n",
              "    <tr>\n",
              "      <th>69</th>\n",
              "      <td>joel.thomas</td>\n",
              "      <td>8/26/2021, 10:36:09 AM</td>\n",
              "      <td>8/26/2021, 11:17:03 AM</td>\n",
              "      <td>40m 54s</td>\n",
              "      <td>joel@FCRIT.onmicrosoft.com</td>\n",
              "      <td>Attendee</td>\n",
              "    </tr>\n",
              "    <tr>\n",
              "      <th>70</th>\n",
              "      <td>GUPTA CHIRANYA</td>\n",
              "      <td>8/26/2021, 10:36:41 AM</td>\n",
              "      <td>8/26/2021, 11:17:03 AM</td>\n",
              "      <td>40m 22s</td>\n",
              "      <td>gupta.chiranya@comp.fcrit.ac.in</td>\n",
              "      <td>Attendee</td>\n",
              "    </tr>\n",
              "    <tr>\n",
              "      <th>71</th>\n",
              "      <td>GEORGE SIBIN</td>\n",
              "      <td>8/26/2021, 10:39:05 AM</td>\n",
              "      <td>8/26/2021, 11:17:03 AM</td>\n",
              "      <td>37m 58s</td>\n",
              "      <td>george.sibin@comp.fcrit.ac.in</td>\n",
              "      <td>Attendee</td>\n",
              "    </tr>\n",
              "    <tr>\n",
              "      <th>72</th>\n",
              "      <td>ALWIN JACOB</td>\n",
              "      <td>8/26/2021, 10:39:31 AM</td>\n",
              "      <td>8/26/2021, 11:17:03 AM</td>\n",
              "      <td>37m 32s</td>\n",
              "      <td>alwin.jacob@comp.fcrit.ac.in</td>\n",
              "      <td>Attendee</td>\n",
              "    </tr>\n",
              "  </tbody>\n",
              "</table>\n",
              "<p>73 rows × 6 columns</p>\n",
              "</div>"
            ],
            "text/plain": [
              "           Full Name  ...       Role\n",
              "0     Rakhi Kalantri  ...  Organizer\n",
              "1     DESHMUKH PARTH  ...   Attendee\n",
              "2        SERENA RAJU  ...   Attendee\n",
              "3   GEOFERRY MICHAEL  ...   Attendee\n",
              "4        HUDIYA YASH  ...   Attendee\n",
              "..               ...  ...        ...\n",
              "68       pramod more  ...   Attendee\n",
              "69       joel.thomas  ...   Attendee\n",
              "70    GUPTA CHIRANYA  ...   Attendee\n",
              "71      GEORGE SIBIN  ...   Attendee\n",
              "72       ALWIN JACOB  ...   Attendee\n",
              "\n",
              "[73 rows x 6 columns]"
            ]
          },
          "metadata": {}
        }
      ]
    },
    {
      "cell_type": "markdown",
      "metadata": {
        "id": "J5mvN_-pVL52"
      },
      "source": [
        "# Convert Duration to Seconds"
      ]
    },
    {
      "cell_type": "code",
      "metadata": {
        "id": "-zyAf3ZdkZxf"
      },
      "source": [
        "def time_parser(time):\n",
        "    num_split = re.split(\"h|m|s\", time)\n",
        "    h_ind = time.find(\"h\")\n",
        "    m_ind = time.find(\"m\")\n",
        "    s_ind = time.find(\"s\")\n",
        "\n",
        "    secs = 0\n",
        "\n",
        "    if h_ind != -1: # xh ... \n",
        "       secs += int(num_split[0])*60*60\n",
        "    if m_ind != -1:\n",
        "        if h_ind == -1: # xm ...\n",
        "            secs += int(num_split[0])*60\n",
        "        else: # xh ym ...\n",
        "            secs += int(num_split[1])*60\n",
        "    if s_ind != -1:\n",
        "        if h_ind == -1: \n",
        "            if m_ind == -1: # xs\n",
        "                secs += int(num_split[0])\n",
        "            else: # xm ys\n",
        "                secs += int(num_split[1])\n",
        "        else: \n",
        "            if m_ind == -1: # xh ys\n",
        "                secs += int(num_split[1])\n",
        "            else: # xh ym zs\n",
        "                secs += int(num_split[2])\n",
        "    return secs"
      ],
      "execution_count": null,
      "outputs": []
    },
    {
      "cell_type": "markdown",
      "metadata": {
        "id": "r50OHAFUVYiT"
      },
      "source": [
        "# Test Script"
      ]
    },
    {
      "cell_type": "code",
      "metadata": {
        "colab": {
          "base_uri": "https://localhost:8080/"
        },
        "id": "-0Ew5BjKlEyT",
        "outputId": "2336cf57-5b13-4000-fcd1-1ffce5e25233"
      },
      "source": [
        "subject = \"DSIP\"\n",
        "dirPath = \"attendance_analysis/data/\"\n",
        "all_data = []\n",
        "for file in os.listdir(dirPath+subject):\n",
        "    lecture_data = {}\n",
        "    lecture_data['subject'] = subject\n",
        "    if \".csv\" in file:\n",
        "        with open(dirPath+subject+\"/\"+file,'rt', encoding='utf16')as f:\n",
        "            data = csv.reader(f, delimiter=\"\\t\")\n",
        "            i = 0\n",
        "            for row in data:\n",
        "                if len(row) == 0:\n",
        "                    skipped = i\n",
        "                    break\n",
        "                # if row[0] == 'Total Number of Participants':\n",
        "                #     lecture_data['participants'] = int(row[1])\n",
        "                # if row[0] == 'Meeting Title':\n",
        "                #     lecture_data['meeting_title'] = row[1]\n",
        "                if row[0] == 'Meeting Start Time':\n",
        "                    lecture_data['meeting_start_time'] = row[1]\n",
        "                if row[0] == 'Meeting End Time':\n",
        "                    lecture_data['meeting_end_time'] = row[1]\n",
        "                i = i + 1\n",
        "        print(dirPath+subject+\"/\"+file)      \n",
        "        lecture = pd.read_csv(dirPath+subject+\"/\"+file, encoding = \"UTF-16\", skiprows=skipped, sep=\"\\t\")\n",
        "    else:\n",
        "        wb = xlrd.open_workbook(dirPath+subject+\"/\"+file)\n",
        "        sheet = wb.sheet_by_index(0)\n",
        "        skipped = 0\n",
        "        for i in range(0,sheet.nrows):\n",
        "            row = sheet.row_values(i) \n",
        "            # if row[0] == 'Total Number of Participants':\n",
        "            #     lecture_data['participants'] = int(row[1])\n",
        "            # if row[0] == 'Meeting Title':\n",
        "            #     lecture_data['meeting_title'] = row[1]\n",
        "            if row[0] == 'Meeting Start Time':\n",
        "                lecture_data['meeting_start_time'] = row[1]\n",
        "            if row[0] == 'Meeting End Time':\n",
        "                lecture_data['meeting_end_time'] = row[1]\n",
        "            if row[0] == '':\n",
        "                skipped = i+1\n",
        "                break\n",
        "        print(dirPath+subject+\"/\"+file)\n",
        "        lecture = pd.read_excel(dirPath+subject+\"/\"+file, skiprows=skipped)\n",
        "    lecture_data['lecture_id'] = str(uuid.uuid4())\n",
        "    attendees = {}\n",
        "    organizer = {}\n",
        "    for index,row in lecture.iterrows():\n",
        "        # if row['Full Name'] == 'pramod more':\n",
        "        #     lecture_data['attendance_form_time'] = row['Join Time']\n",
        "        #     break\n",
        "        if row['Full Name'] not in attendees.keys():\n",
        "            if row['Role'] == 'Presenter' or row['Role'] == 'Attendee':\n",
        "                if row['Full Name'] in roll_no.keys():\n",
        "                    attendee = {}\n",
        "                    attendee['name'] = row['Full Name']\n",
        "                    attendee['roll_no'] = roll_no[row['Full Name']]\n",
        "                    attendee['join_time'] = row['Join Time']\n",
        "                    attendee['leave_time'] = row['Leave Time']\n",
        "                    attendee['duration'] = time_parser(row['Duration'])\n",
        "                    # attendee['role'] = row['Role']\n",
        "                    try:\n",
        "                        attendee['email'] = row['Email']\n",
        "                    except KeyError:\n",
        "                        try: \n",
        "                            attendee['email'] = row['Email (userPrincipalName)']\n",
        "                        except KeyError:\n",
        "                            attendee['email'] = row['userPrincipalName']\n",
        "                    if type(attendee['email']) is float:\n",
        "                        attendee['email'] = \"-\"\n",
        "                    attendees[row['Full Name']] = attendee\n",
        "            else:\n",
        "                if not bool(organizer):\n",
        "                    organizer['organizer_name'] = row['Full Name']\n",
        "                    organizer['organizer_join_time'] = row['Join Time']\n",
        "                    organizer['organizer_leave_time'] = row['Leave Time']\n",
        "                    organizer['organizer_duration'] = time_parser(row['Duration'])\n",
        "                else:\n",
        "                    prev_join_time = datetime.strptime(organizer['organizer_join_time'], '%m/%d/%Y, %I:%M:%S %p')\n",
        "                    curr_join_time = datetime.strptime(row['Join Time'], '%m/%d/%Y, %I:%M:%S %p')\n",
        "                    if prev_join_time < curr_join_time: \n",
        "                        organizer['organizer_leave_time'] = row['Leave Time']\n",
        "                    else:\n",
        "                        organizer['organizer_join_time'] = row['Join Time']\n",
        "                    organizer['organizer_duration'] += time_parser(row['Duration'])\n",
        "        else: # multiple join-leave\n",
        "            attendee = attendees[row['Full Name']]\n",
        "            prev_join_time = datetime.strptime(attendee['join_time'], '%m/%d/%Y, %I:%M:%S %p')\n",
        "            curr_join_time = datetime.strptime(row['Join Time'], '%m/%d/%Y, %I:%M:%S %p')\n",
        "            if prev_join_time < curr_join_time: \n",
        "                attendee['leave_time'] = row['Leave Time']\n",
        "            else:\n",
        "                attendee['join_time'] = row['Join Time']\n",
        "            attendee['duration'] += time_parser(row['Duration'])\n",
        "    for key, student in attendees.items():\n",
        "        final = {**student, **lecture_data, **organizer}\n",
        "        all_data.append(final)"
      ],
      "execution_count": 69,
      "outputs": [
        {
          "output_type": "stream",
          "name": "stdout",
          "text": [
            "attendance_analysis/data/DSIP/4-8-2021.csv\n",
            "attendance_analysis/data/DSIP/25-8-2021 L no. 25.csv\n",
            "attendance_analysis/data/DSIP/31-8-2021 Lno 28.csv\n",
            "attendance_analysis/data/DSIP/17-8-2021-L no 22,23.csv\n",
            "attendance_analysis/data/DSIP/5-8-2021.csv\n",
            "attendance_analysis/data/DSIP/11-8-2021.csv\n",
            "attendance_analysis/data/DSIP/16-8-2021-L no 21.csv\n",
            "attendance_analysis/data/DSIP/24-8-2021- Lno 24.csv\n",
            "attendance_analysis/data/DSIP/3-8-2021.csv\n",
            "attendance_analysis/data/DSIP/26-8-2021 L no 26.csv\n",
            "attendance_analysis/data/DSIP/6-8-2021.csv\n",
            "attendance_analysis/data/DSIP/10-8-2021.csv\n"
          ]
        }
      ]
    },
    {
      "cell_type": "code",
      "metadata": {
        "id": "c4pw0uGB9iN1"
      },
      "source": [
        "preprocessed_dirPath = 'attendance_analysis/preprocessed_data_json/'"
      ],
      "execution_count": 70,
      "outputs": []
    },
    {
      "cell_type": "markdown",
      "metadata": {
        "id": "kB4R1tTJXu7r"
      },
      "source": [
        "# Preprocessing Data"
      ]
    },
    {
      "cell_type": "code",
      "metadata": {
        "id": "s7_M11yqn3PD"
      },
      "source": [
        "def preprocessor(subject):\n",
        "    dirPath = \"attendance_analysis/data/\"\n",
        "    all_data = []\n",
        "    for file in os.listdir(dirPath+subject):\n",
        "        lecture_data = {}\n",
        "        lecture_data['subject'] = subject\n",
        "        if \".csv\" in file:\n",
        "            with open(dirPath+subject+\"/\"+file,'rt', encoding='utf16')as f:\n",
        "                data = csv.reader(f, delimiter=\"\\t\")\n",
        "                i = 0\n",
        "                for row in data:\n",
        "                    if len(row) == 0:\n",
        "                        skipped = i\n",
        "                        break\n",
        "                    # if row[0] == 'Total Number of Participants':\n",
        "                    #     lecture_data['participants'] = int(row[1])\n",
        "                    # if row[0] == 'Meeting Title':\n",
        "                    #     lecture_data['meeting_title'] = row[1]\n",
        "                    if row[0] == 'Meeting Start Time':\n",
        "                        lecture_data['meeting_start_time'] = row[1]\n",
        "                    if row[0] == 'Meeting End Time':\n",
        "                        lecture_data['meeting_end_time'] = row[1]\n",
        "                    i = i + 1\n",
        "            print(dirPath+subject+\"/\"+file)      \n",
        "            lecture = pd.read_csv(dirPath+subject+\"/\"+file, encoding = \"UTF-16\", skiprows=skipped, sep=\"\\t\")\n",
        "        else:\n",
        "            wb = xlrd.open_workbook(dirPath+subject+\"/\"+file)\n",
        "            sheet = wb.sheet_by_index(0)\n",
        "            skipped = 0\n",
        "            for i in range(0,sheet.nrows):\n",
        "                row = sheet.row_values(i) \n",
        "                # if row[0] == 'Total Number of Participants':\n",
        "                #     lecture_data['participants'] = int(row[1])\n",
        "                # if row[0] == 'Meeting Title':\n",
        "                #     lecture_data['meeting_title'] = row[1]\n",
        "                if row[0] == 'Meeting Start Time':\n",
        "                    lecture_data['meeting_start_time'] = row[1]\n",
        "                if row[0] == 'Meeting End Time':\n",
        "                    lecture_data['meeting_end_time'] = row[1]\n",
        "                if row[0] == '':\n",
        "                    skipped = i+1\n",
        "                    break\n",
        "            print(dirPath+subject+\"/\"+file)\n",
        "            lecture = pd.read_excel(dirPath+subject+\"/\"+file, skiprows=skipped)\n",
        "        lecture_data['lecture_id'] = str(uuid.uuid4())\n",
        "        attendees = {}\n",
        "        organizer = {}\n",
        "        for index,row in lecture.iterrows():\n",
        "            if row['Full Name'] == 'pramod more':\n",
        "                lecture_data['attendance_form_time'] = row['Join Time']\n",
        "                break\n",
        "            if row['Full Name'] not in attendees.keys():\n",
        "                if row['Role'] == 'Presenter' or row['Role'] == 'Attendee':\n",
        "                    if row['Full Name'] in roll_no.keys():\n",
        "                        attendee = {}\n",
        "                        attendee['name'] = row['Full Name']\n",
        "                        attendee['roll_no'] = roll_no[row['Full Name']]\n",
        "                        attendee['join_time'] = row['Join Time']\n",
        "                        attendee['leave_time'] = row['Leave Time']\n",
        "                        attendee['duration'] = time_parser(row['Duration'])\n",
        "                        # attendee['role'] = row['Role']\n",
        "                        try:\n",
        "                            attendee['email'] = row['Email']\n",
        "                        except KeyError:\n",
        "                            try: \n",
        "                                attendee['email'] = row['Email (userPrincipalName)']\n",
        "                            except KeyError:\n",
        "                                attendee['email'] = row['userPrincipalName']\n",
        "                        if type(attendee['email']) is float:\n",
        "                            attendee['email'] = \"-\"\n",
        "                        attendees[row['Full Name']] = attendee\n",
        "                else:\n",
        "                    if not bool(organizer):\n",
        "                        organizer['organizer_name'] = row['Full Name']\n",
        "                        organizer['organizer_join_time'] = row['Join Time']\n",
        "                        organizer['organizer_leave_time'] = row['Leave Time']\n",
        "                        organizer['organizer_duration'] = time_parser(row['Duration'])\n",
        "                    else:\n",
        "                        prev_join_time = datetime.strptime(organizer['organizer_join_time'], '%m/%d/%Y, %I:%M:%S %p')\n",
        "                        curr_join_time = datetime.strptime(row['Join Time'], '%m/%d/%Y, %I:%M:%S %p')\n",
        "                        if prev_join_time < curr_join_time: \n",
        "                            organizer['organizer_leave_time'] = row['Leave Time']\n",
        "                        else:\n",
        "                            organizer['organizer_join_time'] = row['Join Time']\n",
        "                        organizer['organizer_duration'] += time_parser(row['Duration'])\n",
        "            else: # multiple join-leave\n",
        "                attendee = attendees[row['Full Name']]\n",
        "                prev_join_time = datetime.strptime(attendee['join_time'], '%m/%d/%Y, %I:%M:%S %p')\n",
        "                curr_join_time = datetime.strptime(row['Join Time'], '%m/%d/%Y, %I:%M:%S %p')\n",
        "                if prev_join_time < curr_join_time: \n",
        "                    attendee['leave_time'] = row['Leave Time']\n",
        "                else:\n",
        "                    attendee['join_time'] = row['Join Time']\n",
        "                attendee['duration'] += time_parser(row['Duration'])\n",
        "        for key, student in attendees.items():\n",
        "            final = {**student, **lecture_data, **organizer}\n",
        "            all_data.append(final)\n",
        "    json_data = json.dumps(all_data, indent = 2)\n",
        "    with open(preprocessed_dirPath+subject+\"_data.json\", \"w\") as outfile:\n",
        "        outfile.write(json_data)\n",
        "    print(\"\\n\\nFiled Created at -> \", preprocessed_dirPath+subject+\"_data.json\")"
      ],
      "execution_count": 71,
      "outputs": []
    },
    {
      "cell_type": "markdown",
      "metadata": {
        "id": "nzLEZiSIYQLK"
      },
      "source": [
        "# Saving Data"
      ]
    },
    {
      "cell_type": "code",
      "metadata": {
        "colab": {
          "base_uri": "https://localhost:8080/"
        },
        "id": "I4EU-4E8E5yw",
        "outputId": "f0d1412f-7a67-4927-e180-f5bf9de327bb"
      },
      "source": [
        "bda_data = preprocessor(\"BDA\")"
      ],
      "execution_count": null,
      "outputs": [
        {
          "output_type": "stream",
          "name": "stdout",
          "text": [
            "attendance_analysis/data/BDA/meetingAttendanceReport(General) (2).csv\n",
            "attendance_analysis/data/BDA/meetingAttendanceReport(BDA(Theory)) (3).csv\n",
            "attendance_analysis/data/BDA/meetingAttendanceReport(BDA(Theory)) (1) (1).csv\n",
            "attendance_analysis/data/BDA/meetingAttendanceReport(BDA(Theory)) (2).csv\n",
            "attendance_analysis/data/BDA/meetingAttendanceReport(BDA(Theory)) (5).csv\n",
            "attendance_analysis/data/BDA/meetingAttendanceReport(BDA(Theory)) (3) (1).csv\n",
            "attendance_analysis/data/BDA/meetingAttendanceReport(BDA(Theory)) (1) (2).csv\n",
            "attendance_analysis/data/BDA/meetingAttendanceReport(BDA(Theory)) (4).csv\n",
            "attendance_analysis/data/BDA/meetingAttendanceReport(BDA(Theory)) (2) (1).csv\n",
            "attendance_analysis/data/BDA/meetingAttendanceReport(General).csv\n",
            "attendance_analysis/data/BDA/meetingAttendanceReport(General) (3).csv\n",
            "attendance_analysis/data/BDA/meetingAttendanceReport(BDA(Theory)) (1).csv\n",
            "attendance_analysis/data/BDA/meetingAttendanceReport(General) (1).csv\n",
            "\n",
            "\n",
            "Filed Created at ->  attendance_analysis/preprocessed_data_json/BDA_data.json\n"
          ]
        }
      ]
    },
    {
      "cell_type": "code",
      "metadata": {
        "colab": {
          "base_uri": "https://localhost:8080/"
        },
        "id": "TCVpXH0iGZM3",
        "outputId": "76c621e5-1bb9-4310-8940-7d16e50bd9a8"
      },
      "source": [
        "dsip_data = preprocessor(\"DSIP\")"
      ],
      "execution_count": null,
      "outputs": [
        {
          "output_type": "stream",
          "name": "stdout",
          "text": [
            "attendance_analysis/data/DSIP/4-8-2021.csv\n",
            "attendance_analysis/data/DSIP/25-8-2021 L no. 25.csv\n",
            "attendance_analysis/data/DSIP/31-8-2021 Lno 28.csv\n",
            "attendance_analysis/data/DSIP/17-8-2021-L no 22,23.csv\n",
            "attendance_analysis/data/DSIP/5-8-2021.csv\n",
            "attendance_analysis/data/DSIP/11-8-2021.csv\n",
            "attendance_analysis/data/DSIP/16-8-2021-L no 21.csv\n",
            "attendance_analysis/data/DSIP/24-8-2021- Lno 24.csv\n",
            "attendance_analysis/data/DSIP/3-8-2021.csv\n",
            "attendance_analysis/data/DSIP/26-8-2021 L no 26.csv\n",
            "attendance_analysis/data/DSIP/6-8-2021.csv\n",
            "attendance_analysis/data/DSIP/10-8-2021.csv\n",
            "\n",
            "\n",
            "Filed Created at ->  attendance_analysis/preprocessed_data_json/DSIP_data.json\n"
          ]
        }
      ]
    },
    {
      "cell_type": "code",
      "metadata": {
        "colab": {
          "base_uri": "https://localhost:8080/"
        },
        "id": "zjKlIdp-GdNt",
        "outputId": "3f7adf05-12ff-45a2-8bce-86f3dbc79e55"
      },
      "source": [
        "mcc_data = preprocessor(\"MCC\")"
      ],
      "execution_count": 72,
      "outputs": [
        {
          "output_type": "stream",
          "name": "stdout",
          "text": [
            "attendance_analysis/data/MCC/MCC L23 26-08-2021.xlsx\n",
            "attendance_analysis/data/MCC/MCC L31 16-09-2021.xlsx\n",
            "attendance_analysis/data/MCC/MCC L12 29-07-2021.xlsx\n",
            "attendance_analysis/data/MCC/MCC L2.xlsx\n",
            "attendance_analysis/data/MCC/MCC L7.xlsx\n",
            "attendance_analysis/data/MCC/MCC L28 08-09-2021.xlsx\n",
            "attendance_analysis/data/MCC/MCC L33 17-09-2021.xlsx\n",
            "attendance_analysis/data/MCC/MCC L22 25-08-2021.xlsx\n",
            "attendance_analysis/data/MCC/MCC L14 04-08-2021.xlsx\n",
            "attendance_analysis/data/MCC/MCC L24 27-08-2021.xlsx\n",
            "attendance_analysis/data/MCC/MCC L9.xlsx\n",
            "attendance_analysis/data/MCC/MCC L21 13-08-2021.xlsx\n",
            "attendance_analysis/data/MCC/MCC L35 22-09-2021.xlsx\n",
            "attendance_analysis/data/MCC/MCC L16 06-08-2021.xlsx\n",
            "attendance_analysis/data/MCC/MCC L27 06-09-2021.xlsx\n",
            "attendance_analysis/data/MCC/MCC L5.xlsx\n",
            "attendance_analysis/data/MCC/MCC L18 10-08-2021.xlsx\n",
            "attendance_analysis/data/MCC/MCC L17 09-08-2021.xlsx\n",
            "attendance_analysis/data/MCC/MCC L10.xlsx\n",
            "attendance_analysis/data/MCC/MCC L6.xlsx\n",
            "attendance_analysis/data/MCC/MCC L1.xlsx\n",
            "attendance_analysis/data/MCC/MCC L15 05-08-2021.xlsx\n",
            "attendance_analysis/data/MCC/MCC L13 02-08-2021.xlsx\n",
            "attendance_analysis/data/MCC/MCC L36 23-09-2021.xlsx\n",
            "attendance_analysis/data/MCC/MCC L3.xlsx\n",
            "attendance_analysis/data/MCC/MCC L34 20-09-2021.xlsx\n",
            "attendance_analysis/data/MCC/MCC L8.xlsx\n",
            "attendance_analysis/data/MCC/MCC L29 09-09-2021.xlsx\n",
            "attendance_analysis/data/MCC/MCC L4.xlsx\n",
            "attendance_analysis/data/MCC/MCC L39 28-09-2021.xlsx\n",
            "attendance_analysis/data/MCC/MCC L37 24-09-2021.xlsx\n",
            "attendance_analysis/data/MCC/MCC L11 29-07-2021.xlsx\n",
            "attendance_analysis/data/MCC/MCC L30 15-09-2021.xlsx\n",
            "attendance_analysis/data/MCC/MCC L25 30-08-2021.xlsx\n",
            "attendance_analysis/data/MCC/MCC L19 11-08-2021.xlsx\n",
            "attendance_analysis/data/MCC/MCC L38 27-09-2021.xlsx\n",
            "attendance_analysis/data/MCC/MCC L26 01-09-2021.xlsx\n",
            "attendance_analysis/data/MCC/MCC L32 17-09-2021.xlsx\n",
            "attendance_analysis/data/MCC/MCC L20 12-08-2021.xlsx\n",
            "\n",
            "\n",
            "Filed Created at ->  attendance_analysis/preprocessed_data_json/MCC_data.json\n"
          ]
        }
      ]
    }
  ]
}